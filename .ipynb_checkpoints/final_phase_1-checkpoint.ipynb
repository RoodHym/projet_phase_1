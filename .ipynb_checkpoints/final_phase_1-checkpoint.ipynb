{
 "cells": [
  {
   "cell_type": "markdown",
   "id": "55baa891-6655-42a4-b32d-37922a1d917d",
   "metadata": {},
   "source": [
    "## Aperçu du projet\n",
    "Pour ce projet, nous utiliserons le nettoyage, l’imputation, l’analyse et la visualisation des données pour générer des informations pour une partie prenante de l’entreprise.\n",
    "## Problème commercial\n",
    "Une entreprise se développe dans de nouveaux secteurs afin de diversifier son portefeuille. Elle souhaite notamment acquérir et exploiter des avions pour des entreprises commerciales et privées, mais ignore les risques potentiels liés à l'aviation.Je suis chargé(e) d'identifier les avions présentant le moins de risques pour l'entreprise lors du lancement de cette nouvelle activité. Je dois ensuite traduire mes conclusions en informations exploitables que le responsable de la nouvelle division aéronautique pourra utiliser pour l'aider à choisir les avions à acquérir."
   ]
  },
  {
   "cell_type": "code",
   "execution_count": null,
   "id": "1fa2a317-757c-417b-be39-85da46d6ab9d",
   "metadata": {},
   "outputs": [],
   "source": []
  }
 ],
 "metadata": {
  "kernelspec": {
   "display_name": "python (learn-env)",
   "language": "python",
   "name": "learn-env"
  },
  "language_info": {
   "name": ""
  }
 },
 "nbformat": 4,
 "nbformat_minor": 5
}
